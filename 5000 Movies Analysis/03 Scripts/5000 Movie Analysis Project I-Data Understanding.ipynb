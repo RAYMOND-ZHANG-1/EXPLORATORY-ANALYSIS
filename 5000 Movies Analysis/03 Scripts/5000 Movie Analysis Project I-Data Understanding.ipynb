{
 "cells": [
  {
   "cell_type": "markdown",
   "id": "9ddd38a7",
   "metadata": {
    "toc": true
   },
   "source": [
    "<h1>Table of Contents<span class=\"tocSkip\"></span></h1>\n",
    "<div class=\"toc\"><ul class=\"toc-item\"><li><span><a href=\"#Import-Libarires-and-Dataframe\" data-toc-modified-id=\"Import-Libarires-and-Dataframe-1\"><span class=\"toc-item-num\">1&nbsp;&nbsp;</span>Import Libarires and Dataframe</a></span><ul class=\"toc-item\"><li><span><a href=\"#Import-Dataframe\" data-toc-modified-id=\"Import-Dataframe-1.1\"><span class=\"toc-item-num\">1.1&nbsp;&nbsp;</span>Import Dataframe</a></span></li></ul></li><li><span><a href=\"#Cleaning-dataframe-before-any-furture-action\" data-toc-modified-id=\"Cleaning-dataframe-before-any-furture-action-2\"><span class=\"toc-item-num\">2&nbsp;&nbsp;</span>Cleaning dataframe before any furture action</a></span><ul class=\"toc-item\"><li><span><a href=\"#Data-Wrangling-Procedures\" data-toc-modified-id=\"Data-Wrangling-Procedures-2.1\"><span class=\"toc-item-num\">2.1&nbsp;&nbsp;</span>Data Wrangling Procedures</a></span><ul class=\"toc-item\"><li><span><a href=\"#Drop-any-column-that-won't-be-use\" data-toc-modified-id=\"Drop-any-column-that-won't-be-use-2.1.1\"><span class=\"toc-item-num\">2.1.1&nbsp;&nbsp;</span>Drop any column that won't be use</a></span></li></ul></li><li><span><a href=\"#Data-Consistency-Check\" data-toc-modified-id=\"Data-Consistency-Check-2.2\"><span class=\"toc-item-num\">2.2&nbsp;&nbsp;</span>Data Consistency Check</a></span><ul class=\"toc-item\"><li><span><a href=\"#Checking-mixed-type-columns\" data-toc-modified-id=\"Checking-mixed-type-columns-2.2.1\"><span class=\"toc-item-num\">2.2.1&nbsp;&nbsp;</span>Checking mixed-type columns</a></span></li><li><span><a href=\"#Checking-nan-values\" data-toc-modified-id=\"Checking-nan-values-2.2.2\"><span class=\"toc-item-num\">2.2.2&nbsp;&nbsp;</span>Checking nan values</a></span></li><li><span><a href=\"#Checking-duplicates\" data-toc-modified-id=\"Checking-duplicates-2.2.3\"><span class=\"toc-item-num\">2.2.3&nbsp;&nbsp;</span>Checking duplicates</a></span></li></ul></li></ul></li><li><span><a href=\"#Export-dataframe-as-pickle-format\" data-toc-modified-id=\"Export-dataframe-as-pickle-format-3\"><span class=\"toc-item-num\">3&nbsp;&nbsp;</span>Export dataframe as pickle format</a></span></li></ul></div>"
   ]
  },
  {
   "cell_type": "markdown",
   "id": "57fbfadb",
   "metadata": {},
   "source": [
    "## Import Libarires and Dataframe"
   ]
  },
  {
   "cell_type": "code",
   "execution_count": 1,
   "id": "7ba21a33",
   "metadata": {},
   "outputs": [],
   "source": [
    "import pandas as pd\n",
    "import numpy as np\n",
    "import os"
   ]
  },
  {
   "cell_type": "code",
   "execution_count": 2,
   "id": "6d649a94",
   "metadata": {},
   "outputs": [],
   "source": [
    "# Create a path\n",
    "path = r'C:\\Users\\SuperHome\\Documents\\5000 Movies Analysis\\02 Data\\Original Data'"
   ]
  },
  {
   "cell_type": "markdown",
   "id": "268adbd3",
   "metadata": {},
   "source": [
    "### Import Dataframe"
   ]
  },
  {
   "cell_type": "code",
   "execution_count": 4,
   "id": "526108a4",
   "metadata": {},
   "outputs": [],
   "source": [
    "movie = pd.read_csv(os.path.join(path,'tmdb_5000_movies.csv'), index_col=False)"
   ]
  },
  {
   "cell_type": "code",
   "execution_count": 6,
   "id": "d5f2247f",
   "metadata": {},
   "outputs": [
    {
     "data": {
      "text/plain": [
       "(4803, 21)"
      ]
     },
     "execution_count": 6,
     "metadata": {},
     "output_type": "execute_result"
    }
   ],
   "source": [
    "# Checking data shape and data types after importing\n",
    "movie.shape"
   ]
  },
  {
   "cell_type": "code",
   "execution_count": 9,
   "id": "fcb203e4",
   "metadata": {},
   "outputs": [
    {
     "data": {
      "text/html": [
       "<div>\n",
       "<style scoped>\n",
       "    .dataframe tbody tr th:only-of-type {\n",
       "        vertical-align: middle;\n",
       "    }\n",
       "\n",
       "    .dataframe tbody tr th {\n",
       "        vertical-align: top;\n",
       "    }\n",
       "\n",
       "    .dataframe thead th {\n",
       "        text-align: right;\n",
       "    }\n",
       "</style>\n",
       "<table border=\"1\" class=\"dataframe\">\n",
       "  <thead>\n",
       "    <tr style=\"text-align: right;\">\n",
       "      <th></th>\n",
       "      <th>budget</th>\n",
       "      <th>genres</th>\n",
       "      <th>homepage</th>\n",
       "      <th>id</th>\n",
       "      <th>original_language</th>\n",
       "      <th>original_title</th>\n",
       "      <th>overview</th>\n",
       "      <th>popularity</th>\n",
       "      <th>production_companies</th>\n",
       "      <th>production_countries</th>\n",
       "      <th>country</th>\n",
       "      <th>release_date</th>\n",
       "      <th>revenue</th>\n",
       "      <th>runtime</th>\n",
       "      <th>spoken_languages</th>\n",
       "      <th>language</th>\n",
       "      <th>status</th>\n",
       "      <th>tagline</th>\n",
       "      <th>title</th>\n",
       "      <th>vote_average</th>\n",
       "      <th>vote_count</th>\n",
       "    </tr>\n",
       "  </thead>\n",
       "  <tbody>\n",
       "    <tr>\n",
       "      <th>0</th>\n",
       "      <td>237000000</td>\n",
       "      <td>Action</td>\n",
       "      <td>http://www.avatarmovie.com/</td>\n",
       "      <td>19995</td>\n",
       "      <td>en</td>\n",
       "      <td>Avatar</td>\n",
       "      <td>In the 22nd century, a paraplegic Marine is di...</td>\n",
       "      <td>150.437577</td>\n",
       "      <td>[{\"name\": \"Ingenious Film Partners\", \"id\": 289...</td>\n",
       "      <td>[{\"iso_3166_1\": \"US\", \"name\": \"United States o...</td>\n",
       "      <td>US</td>\n",
       "      <td>2009-12-10</td>\n",
       "      <td>2787965087</td>\n",
       "      <td>162.0</td>\n",
       "      <td>[{\"iso_639_1\": \"en\", \"name\": \"English\"}, {\"iso...</td>\n",
       "      <td>en</td>\n",
       "      <td>Released</td>\n",
       "      <td>Enter the World of Pandora.</td>\n",
       "      <td>Avatar</td>\n",
       "      <td>7.2</td>\n",
       "      <td>11800</td>\n",
       "    </tr>\n",
       "    <tr>\n",
       "      <th>1</th>\n",
       "      <td>300000000</td>\n",
       "      <td>Adventure</td>\n",
       "      <td>http://disney.go.com/disneypictures/pirates/</td>\n",
       "      <td>285</td>\n",
       "      <td>en</td>\n",
       "      <td>Pirates of the Caribbean: At World's End</td>\n",
       "      <td>Captain Barbossa, long believed to be dead, ha...</td>\n",
       "      <td>139.082615</td>\n",
       "      <td>[{\"name\": \"Walt Disney Pictures\", \"id\": 2}, {\"...</td>\n",
       "      <td>[{\"iso_3166_1\": \"US\", \"name\": \"United States o...</td>\n",
       "      <td>US</td>\n",
       "      <td>2007-05-19</td>\n",
       "      <td>961000000</td>\n",
       "      <td>169.0</td>\n",
       "      <td>[{\"iso_639_1\": \"en\", \"name\": \"English\"}]</td>\n",
       "      <td>en</td>\n",
       "      <td>Released</td>\n",
       "      <td>At the end of the world, the adventure begins.</td>\n",
       "      <td>Pirates of the Caribbean: At World's End</td>\n",
       "      <td>6.9</td>\n",
       "      <td>4500</td>\n",
       "    </tr>\n",
       "    <tr>\n",
       "      <th>2</th>\n",
       "      <td>245000000</td>\n",
       "      <td>Action</td>\n",
       "      <td>http://www.sonypictures.com/movies/spectre/</td>\n",
       "      <td>206647</td>\n",
       "      <td>en</td>\n",
       "      <td>Spectre</td>\n",
       "      <td>A cryptic message from Bond?€?s past sends him...</td>\n",
       "      <td>107.376788</td>\n",
       "      <td>[{\"name\": \"Columbia Pictures\", \"id\": 5}, {\"nam...</td>\n",
       "      <td>[{\"iso_3166_1\": \"GB\", \"name\": \"United Kingdom\"...</td>\n",
       "      <td>GB</td>\n",
       "      <td>2015-10-26</td>\n",
       "      <td>880674609</td>\n",
       "      <td>148.0</td>\n",
       "      <td>[{\"iso_639_1\": \"fr\", \"name\": \"Fran\\u00e7ais\"},...</td>\n",
       "      <td>fr</td>\n",
       "      <td>Released</td>\n",
       "      <td>A Plan No One Escapes</td>\n",
       "      <td>Spectre</td>\n",
       "      <td>6.3</td>\n",
       "      <td>4466</td>\n",
       "    </tr>\n",
       "    <tr>\n",
       "      <th>3</th>\n",
       "      <td>250000000</td>\n",
       "      <td>Action</td>\n",
       "      <td>http://www.thedarkknightrises.com/</td>\n",
       "      <td>49026</td>\n",
       "      <td>en</td>\n",
       "      <td>The Dark Knight Rises</td>\n",
       "      <td>Following the death of District Attorney Harve...</td>\n",
       "      <td>112.312950</td>\n",
       "      <td>[{\"name\": \"Legendary Pictures\", \"id\": 923}, {\"...</td>\n",
       "      <td>[{\"iso_3166_1\": \"US\", \"name\": \"United States o...</td>\n",
       "      <td>US</td>\n",
       "      <td>2012-07-16</td>\n",
       "      <td>1084939099</td>\n",
       "      <td>165.0</td>\n",
       "      <td>[{\"iso_639_1\": \"en\", \"name\": \"English\"}]</td>\n",
       "      <td>en</td>\n",
       "      <td>Released</td>\n",
       "      <td>The Legend Ends</td>\n",
       "      <td>The Dark Knight Rises</td>\n",
       "      <td>7.6</td>\n",
       "      <td>9106</td>\n",
       "    </tr>\n",
       "    <tr>\n",
       "      <th>4</th>\n",
       "      <td>260000000</td>\n",
       "      <td>Action</td>\n",
       "      <td>http://movies.disney.com/john-carter</td>\n",
       "      <td>49529</td>\n",
       "      <td>en</td>\n",
       "      <td>John Carter</td>\n",
       "      <td>John Carter is a war-weary, former military ca...</td>\n",
       "      <td>43.926995</td>\n",
       "      <td>[{\"name\": \"Walt Disney Pictures\", \"id\": 2}]</td>\n",
       "      <td>[{\"iso_3166_1\": \"US\", \"name\": \"United States o...</td>\n",
       "      <td>US</td>\n",
       "      <td>2012-03-07</td>\n",
       "      <td>284139100</td>\n",
       "      <td>132.0</td>\n",
       "      <td>[{\"iso_639_1\": \"en\", \"name\": \"English\"}]</td>\n",
       "      <td>en</td>\n",
       "      <td>Released</td>\n",
       "      <td>Lost in our world, found in another.</td>\n",
       "      <td>John Carter</td>\n",
       "      <td>6.1</td>\n",
       "      <td>2124</td>\n",
       "    </tr>\n",
       "  </tbody>\n",
       "</table>\n",
       "</div>"
      ],
      "text/plain": [
       "      budget     genres                                      homepage      id  \\\n",
       "0  237000000     Action                   http://www.avatarmovie.com/   19995   \n",
       "1  300000000  Adventure  http://disney.go.com/disneypictures/pirates/     285   \n",
       "2  245000000     Action   http://www.sonypictures.com/movies/spectre/  206647   \n",
       "3  250000000     Action            http://www.thedarkknightrises.com/   49026   \n",
       "4  260000000     Action          http://movies.disney.com/john-carter   49529   \n",
       "\n",
       "  original_language                            original_title  \\\n",
       "0                en                                    Avatar   \n",
       "1                en  Pirates of the Caribbean: At World's End   \n",
       "2                en                                   Spectre   \n",
       "3                en                     The Dark Knight Rises   \n",
       "4                en                               John Carter   \n",
       "\n",
       "                                            overview  popularity  \\\n",
       "0  In the 22nd century, a paraplegic Marine is di...  150.437577   \n",
       "1  Captain Barbossa, long believed to be dead, ha...  139.082615   \n",
       "2  A cryptic message from Bond?€?s past sends him...  107.376788   \n",
       "3  Following the death of District Attorney Harve...  112.312950   \n",
       "4  John Carter is a war-weary, former military ca...   43.926995   \n",
       "\n",
       "                                production_companies  \\\n",
       "0  [{\"name\": \"Ingenious Film Partners\", \"id\": 289...   \n",
       "1  [{\"name\": \"Walt Disney Pictures\", \"id\": 2}, {\"...   \n",
       "2  [{\"name\": \"Columbia Pictures\", \"id\": 5}, {\"nam...   \n",
       "3  [{\"name\": \"Legendary Pictures\", \"id\": 923}, {\"...   \n",
       "4        [{\"name\": \"Walt Disney Pictures\", \"id\": 2}]   \n",
       "\n",
       "                                production_countries country release_date  \\\n",
       "0  [{\"iso_3166_1\": \"US\", \"name\": \"United States o...      US   2009-12-10   \n",
       "1  [{\"iso_3166_1\": \"US\", \"name\": \"United States o...      US   2007-05-19   \n",
       "2  [{\"iso_3166_1\": \"GB\", \"name\": \"United Kingdom\"...      GB   2015-10-26   \n",
       "3  [{\"iso_3166_1\": \"US\", \"name\": \"United States o...      US   2012-07-16   \n",
       "4  [{\"iso_3166_1\": \"US\", \"name\": \"United States o...      US   2012-03-07   \n",
       "\n",
       "      revenue  runtime                                   spoken_languages  \\\n",
       "0  2787965087    162.0  [{\"iso_639_1\": \"en\", \"name\": \"English\"}, {\"iso...   \n",
       "1   961000000    169.0           [{\"iso_639_1\": \"en\", \"name\": \"English\"}]   \n",
       "2   880674609    148.0  [{\"iso_639_1\": \"fr\", \"name\": \"Fran\\u00e7ais\"},...   \n",
       "3  1084939099    165.0           [{\"iso_639_1\": \"en\", \"name\": \"English\"}]   \n",
       "4   284139100    132.0           [{\"iso_639_1\": \"en\", \"name\": \"English\"}]   \n",
       "\n",
       "  language    status                                         tagline  \\\n",
       "0       en  Released                     Enter the World of Pandora.   \n",
       "1       en  Released  At the end of the world, the adventure begins.   \n",
       "2       fr  Released                           A Plan No One Escapes   \n",
       "3       en  Released                                 The Legend Ends   \n",
       "4       en  Released            Lost in our world, found in another.   \n",
       "\n",
       "                                      title  vote_average  vote_count  \n",
       "0                                    Avatar           7.2       11800  \n",
       "1  Pirates of the Caribbean: At World's End           6.9        4500  \n",
       "2                                   Spectre           6.3        4466  \n",
       "3                     The Dark Knight Rises           7.6        9106  \n",
       "4                               John Carter           6.1        2124  "
      ]
     },
     "execution_count": 9,
     "metadata": {},
     "output_type": "execute_result"
    }
   ],
   "source": [
    "# Checking head\n",
    "movie.head()"
   ]
  },
  {
   "cell_type": "markdown",
   "id": "8cf4d22a",
   "metadata": {},
   "source": [
    "## Cleaning dataframe before any furture action"
   ]
  },
  {
   "cell_type": "markdown",
   "id": "cf176c6f",
   "metadata": {},
   "source": [
    "### Data Wrangling Procedures"
   ]
  },
  {
   "cell_type": "code",
   "execution_count": 8,
   "id": "c3174898",
   "metadata": {},
   "outputs": [],
   "source": [
    "# Showing all columns without limitation\n",
    "pd.set_option('display.max_columns', None)"
   ]
  },
  {
   "cell_type": "markdown",
   "id": "7acdffef",
   "metadata": {},
   "source": [
    "#### Drop any column that won't be use "
   ]
  },
  {
   "cell_type": "code",
   "execution_count": 10,
   "id": "999f8dc9",
   "metadata": {},
   "outputs": [],
   "source": [
    "unwanted = ['homepage','original_language','original_title'\n",
    "           ,'production_companies','production_countries','spoken_languages'\n",
    "           ,'tagline']"
   ]
  },
  {
   "cell_type": "code",
   "execution_count": 11,
   "id": "36785d39",
   "metadata": {},
   "outputs": [],
   "source": [
    "movie_drop = movie.drop(unwanted, axis=1, inplace=True)"
   ]
  },
  {
   "cell_type": "code",
   "execution_count": 12,
   "id": "45d101fe",
   "metadata": {},
   "outputs": [
    {
     "data": {
      "text/html": [
       "<div>\n",
       "<style scoped>\n",
       "    .dataframe tbody tr th:only-of-type {\n",
       "        vertical-align: middle;\n",
       "    }\n",
       "\n",
       "    .dataframe tbody tr th {\n",
       "        vertical-align: top;\n",
       "    }\n",
       "\n",
       "    .dataframe thead th {\n",
       "        text-align: right;\n",
       "    }\n",
       "</style>\n",
       "<table border=\"1\" class=\"dataframe\">\n",
       "  <thead>\n",
       "    <tr style=\"text-align: right;\">\n",
       "      <th></th>\n",
       "      <th>budget</th>\n",
       "      <th>genres</th>\n",
       "      <th>id</th>\n",
       "      <th>overview</th>\n",
       "      <th>popularity</th>\n",
       "      <th>country</th>\n",
       "      <th>release_date</th>\n",
       "      <th>revenue</th>\n",
       "      <th>runtime</th>\n",
       "      <th>language</th>\n",
       "      <th>status</th>\n",
       "      <th>title</th>\n",
       "      <th>vote_average</th>\n",
       "      <th>vote_count</th>\n",
       "    </tr>\n",
       "  </thead>\n",
       "  <tbody>\n",
       "    <tr>\n",
       "      <th>0</th>\n",
       "      <td>237000000</td>\n",
       "      <td>Action</td>\n",
       "      <td>19995</td>\n",
       "      <td>In the 22nd century, a paraplegic Marine is di...</td>\n",
       "      <td>150.437577</td>\n",
       "      <td>US</td>\n",
       "      <td>2009-12-10</td>\n",
       "      <td>2787965087</td>\n",
       "      <td>162.0</td>\n",
       "      <td>en</td>\n",
       "      <td>Released</td>\n",
       "      <td>Avatar</td>\n",
       "      <td>7.2</td>\n",
       "      <td>11800</td>\n",
       "    </tr>\n",
       "    <tr>\n",
       "      <th>1</th>\n",
       "      <td>300000000</td>\n",
       "      <td>Adventure</td>\n",
       "      <td>285</td>\n",
       "      <td>Captain Barbossa, long believed to be dead, ha...</td>\n",
       "      <td>139.082615</td>\n",
       "      <td>US</td>\n",
       "      <td>2007-05-19</td>\n",
       "      <td>961000000</td>\n",
       "      <td>169.0</td>\n",
       "      <td>en</td>\n",
       "      <td>Released</td>\n",
       "      <td>Pirates of the Caribbean: At World's End</td>\n",
       "      <td>6.9</td>\n",
       "      <td>4500</td>\n",
       "    </tr>\n",
       "    <tr>\n",
       "      <th>2</th>\n",
       "      <td>245000000</td>\n",
       "      <td>Action</td>\n",
       "      <td>206647</td>\n",
       "      <td>A cryptic message from Bond?€?s past sends him...</td>\n",
       "      <td>107.376788</td>\n",
       "      <td>GB</td>\n",
       "      <td>2015-10-26</td>\n",
       "      <td>880674609</td>\n",
       "      <td>148.0</td>\n",
       "      <td>fr</td>\n",
       "      <td>Released</td>\n",
       "      <td>Spectre</td>\n",
       "      <td>6.3</td>\n",
       "      <td>4466</td>\n",
       "    </tr>\n",
       "    <tr>\n",
       "      <th>3</th>\n",
       "      <td>250000000</td>\n",
       "      <td>Action</td>\n",
       "      <td>49026</td>\n",
       "      <td>Following the death of District Attorney Harve...</td>\n",
       "      <td>112.312950</td>\n",
       "      <td>US</td>\n",
       "      <td>2012-07-16</td>\n",
       "      <td>1084939099</td>\n",
       "      <td>165.0</td>\n",
       "      <td>en</td>\n",
       "      <td>Released</td>\n",
       "      <td>The Dark Knight Rises</td>\n",
       "      <td>7.6</td>\n",
       "      <td>9106</td>\n",
       "    </tr>\n",
       "    <tr>\n",
       "      <th>4</th>\n",
       "      <td>260000000</td>\n",
       "      <td>Action</td>\n",
       "      <td>49529</td>\n",
       "      <td>John Carter is a war-weary, former military ca...</td>\n",
       "      <td>43.926995</td>\n",
       "      <td>US</td>\n",
       "      <td>2012-03-07</td>\n",
       "      <td>284139100</td>\n",
       "      <td>132.0</td>\n",
       "      <td>en</td>\n",
       "      <td>Released</td>\n",
       "      <td>John Carter</td>\n",
       "      <td>6.1</td>\n",
       "      <td>2124</td>\n",
       "    </tr>\n",
       "  </tbody>\n",
       "</table>\n",
       "</div>"
      ],
      "text/plain": [
       "      budget     genres      id  \\\n",
       "0  237000000     Action   19995   \n",
       "1  300000000  Adventure     285   \n",
       "2  245000000     Action  206647   \n",
       "3  250000000     Action   49026   \n",
       "4  260000000     Action   49529   \n",
       "\n",
       "                                            overview  popularity country  \\\n",
       "0  In the 22nd century, a paraplegic Marine is di...  150.437577      US   \n",
       "1  Captain Barbossa, long believed to be dead, ha...  139.082615      US   \n",
       "2  A cryptic message from Bond?€?s past sends him...  107.376788      GB   \n",
       "3  Following the death of District Attorney Harve...  112.312950      US   \n",
       "4  John Carter is a war-weary, former military ca...   43.926995      US   \n",
       "\n",
       "  release_date     revenue  runtime language    status  \\\n",
       "0   2009-12-10  2787965087    162.0       en  Released   \n",
       "1   2007-05-19   961000000    169.0       en  Released   \n",
       "2   2015-10-26   880674609    148.0       fr  Released   \n",
       "3   2012-07-16  1084939099    165.0       en  Released   \n",
       "4   2012-03-07   284139100    132.0       en  Released   \n",
       "\n",
       "                                      title  vote_average  vote_count  \n",
       "0                                    Avatar           7.2       11800  \n",
       "1  Pirates of the Caribbean: At World's End           6.9        4500  \n",
       "2                                   Spectre           6.3        4466  \n",
       "3                     The Dark Knight Rises           7.6        9106  \n",
       "4                               John Carter           6.1        2124  "
      ]
     },
     "execution_count": 12,
     "metadata": {},
     "output_type": "execute_result"
    }
   ],
   "source": [
    "# Checking columns after dropping\n",
    "movie.head()"
   ]
  },
  {
   "cell_type": "code",
   "execution_count": 15,
   "id": "c9895e47",
   "metadata": {},
   "outputs": [
    {
     "data": {
      "text/plain": [
       "budget            int64\n",
       "genres           object\n",
       "id                int64\n",
       "overview         object\n",
       "popularity      float64\n",
       "country          object\n",
       "release_date     object\n",
       "revenue           int64\n",
       "runtime         float64\n",
       "language         object\n",
       "status           object\n",
       "title            object\n",
       "vote_average    float64\n",
       "vote_count        int64\n",
       "dtype: object"
      ]
     },
     "execution_count": 15,
     "metadata": {},
     "output_type": "execute_result"
    }
   ],
   "source": [
    "movie.dtypes"
   ]
  },
  {
   "cell_type": "markdown",
   "id": "616eac26",
   "metadata": {},
   "source": [
    "### Data Consistency Check"
   ]
  },
  {
   "cell_type": "markdown",
   "id": "95d5d5ac",
   "metadata": {},
   "source": [
    "#### Checking mixed-type columns"
   ]
  },
  {
   "cell_type": "code",
   "execution_count": 19,
   "id": "436a48db",
   "metadata": {},
   "outputs": [
    {
     "name": "stdout",
     "output_type": "stream",
     "text": [
      "genres\n",
      "overview\n",
      "country\n",
      "release_date\n",
      "language\n"
     ]
    }
   ],
   "source": [
    "for col in movie.columns.tolist():\n",
    "    weird = (movie[[col]].applymap(type) != movie[[col]].iloc[0].apply(type)).any(axis=1)\n",
    "    if len(movie[weird]) > 0:\n",
    "        print(col)"
   ]
  },
  {
   "cell_type": "markdown",
   "id": "3d7aa329",
   "metadata": {},
   "source": [
    "There must be some nan values in those columns"
   ]
  },
  {
   "cell_type": "markdown",
   "id": "1484ba2f",
   "metadata": {},
   "source": [
    "#### Checking nan values"
   ]
  },
  {
   "cell_type": "code",
   "execution_count": 24,
   "id": "6a506a60",
   "metadata": {},
   "outputs": [
    {
     "data": {
      "text/plain": [
       "budget            0\n",
       "genres           28\n",
       "id                0\n",
       "overview          3\n",
       "popularity        0\n",
       "country         181\n",
       "release_date      1\n",
       "revenue           0\n",
       "runtime           2\n",
       "language        132\n",
       "status            0\n",
       "title             0\n",
       "vote_average      0\n",
       "vote_count        0\n",
       "dtype: int64"
      ]
     },
     "execution_count": 24,
     "metadata": {},
     "output_type": "execute_result"
    }
   ],
   "source": [
    "movie.isnull().sum()"
   ]
  },
  {
   "cell_type": "markdown",
   "id": "4e7fa47d",
   "metadata": {},
   "source": [
    "I decide do nothing for those nan values"
   ]
  },
  {
   "cell_type": "markdown",
   "id": "bdb1cb32",
   "metadata": {},
   "source": [
    "#### Checking duplicates"
   ]
  },
  {
   "cell_type": "code",
   "execution_count": 22,
   "id": "e32112c3",
   "metadata": {},
   "outputs": [
    {
     "data": {
      "text/html": [
       "<div>\n",
       "<style scoped>\n",
       "    .dataframe tbody tr th:only-of-type {\n",
       "        vertical-align: middle;\n",
       "    }\n",
       "\n",
       "    .dataframe tbody tr th {\n",
       "        vertical-align: top;\n",
       "    }\n",
       "\n",
       "    .dataframe thead th {\n",
       "        text-align: right;\n",
       "    }\n",
       "</style>\n",
       "<table border=\"1\" class=\"dataframe\">\n",
       "  <thead>\n",
       "    <tr style=\"text-align: right;\">\n",
       "      <th></th>\n",
       "      <th>budget</th>\n",
       "      <th>genres</th>\n",
       "      <th>id</th>\n",
       "      <th>overview</th>\n",
       "      <th>popularity</th>\n",
       "      <th>country</th>\n",
       "      <th>release_date</th>\n",
       "      <th>revenue</th>\n",
       "      <th>runtime</th>\n",
       "      <th>language</th>\n",
       "      <th>status</th>\n",
       "      <th>title</th>\n",
       "      <th>vote_average</th>\n",
       "      <th>vote_count</th>\n",
       "    </tr>\n",
       "  </thead>\n",
       "  <tbody>\n",
       "  </tbody>\n",
       "</table>\n",
       "</div>"
      ],
      "text/plain": [
       "Empty DataFrame\n",
       "Columns: [budget, genres, id, overview, popularity, country, release_date, revenue, runtime, language, status, title, vote_average, vote_count]\n",
       "Index: []"
      ]
     },
     "execution_count": 22,
     "metadata": {},
     "output_type": "execute_result"
    }
   ],
   "source": [
    "movie[movie.duplicated(subset='id')]"
   ]
  },
  {
   "cell_type": "markdown",
   "id": "1fda26b6",
   "metadata": {},
   "source": [
    "There is non duplcates found"
   ]
  },
  {
   "cell_type": "markdown",
   "id": "7325996e",
   "metadata": {},
   "source": [
    "## Export dataframe as pickle format"
   ]
  },
  {
   "cell_type": "code",
   "execution_count": 23,
   "id": "fc9bbcee",
   "metadata": {},
   "outputs": [],
   "source": [
    "movie.to_pickle(os.path.join(path,'movie_clean.pkl'))"
   ]
  }
 ],
 "metadata": {
  "kernelspec": {
   "display_name": "Python 3 (ipykernel)",
   "language": "python",
   "name": "python3"
  },
  "language_info": {
   "codemirror_mode": {
    "name": "ipython",
    "version": 3
   },
   "file_extension": ".py",
   "mimetype": "text/x-python",
   "name": "python",
   "nbconvert_exporter": "python",
   "pygments_lexer": "ipython3",
   "version": "3.9.13"
  },
  "toc": {
   "base_numbering": 1,
   "nav_menu": {},
   "number_sections": true,
   "sideBar": true,
   "skip_h1_title": false,
   "title_cell": "Table of Contents",
   "title_sidebar": "Contents",
   "toc_cell": true,
   "toc_position": {
    "height": "calc(100% - 180px)",
    "left": "10px",
    "top": "150px",
    "width": "195.031px"
   },
   "toc_section_display": true,
   "toc_window_display": true
  }
 },
 "nbformat": 4,
 "nbformat_minor": 5
}
